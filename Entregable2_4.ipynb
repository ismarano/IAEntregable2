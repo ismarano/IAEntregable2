{
  "nbformat": 4,
  "nbformat_minor": 0,
  "metadata": {
    "colab": {
      "name": "Entregable2.4.ipynb",
      "version": "0.3.2",
      "provenance": [],
      "include_colab_link": true
    },
    "kernelspec": {
      "name": "python3",
      "display_name": "Python 3"
    }
  },
  "cells": [
    {
      "cell_type": "markdown",
      "metadata": {
        "id": "view-in-github",
        "colab_type": "text"
      },
      "source": [
        "<a href=\"https://colab.research.google.com/github/ismarano/IAEntregable2/blob/master/Entregable2_4.ipynb\" target=\"_parent\"><img src=\"https://colab.research.google.com/assets/colab-badge.svg\" alt=\"Open In Colab\"/></a>"
      ]
    },
    {
      "cell_type": "markdown",
      "metadata": {
        "id": "S02fi6ZHNwL2",
        "colab_type": "text"
      },
      "source": [
        "Importamos las librerias que vamos a usar"
      ]
    },
    {
      "cell_type": "code",
      "metadata": {
        "id": "rsRkcpNFNgc_",
        "colab_type": "code",
        "colab": {}
      },
      "source": [
        "import numpy as np\n",
        "import pandas as pd\n",
        "from sklearn.tree import DecisionTreeClassifier"
      ],
      "execution_count": 0,
      "outputs": []
    },
    {
      "cell_type": "markdown",
      "metadata": {
        "id": "nCJgQgFdOL6i",
        "colab_type": "text"
      },
      "source": [
        "Descargamos el dataset"
      ]
    },
    {
      "cell_type": "code",
      "metadata": {
        "id": "bZgBnVvKOS4T",
        "colab_type": "code",
        "colab": {
          "base_uri": "https://localhost:8080/",
          "height": 204
        },
        "outputId": "5e808752-0074-4f48-db02-8408382282cb"
      },
      "source": [
        "!wget https://raw.githubusercontent.com/ismarano/IAEntregable2/master/train.csv -O train.csv"
      ],
      "execution_count": 3,
      "outputs": [
        {
          "output_type": "stream",
          "text": [
            "--2019-06-06 10:52:14--  https://raw.githubusercontent.com/ismarano/IAEntregable2/master/train.csv\n",
            "Resolving raw.githubusercontent.com (raw.githubusercontent.com)... 151.101.0.133, 151.101.64.133, 151.101.128.133, ...\n",
            "Connecting to raw.githubusercontent.com (raw.githubusercontent.com)|151.101.0.133|:443... connected.\n",
            "HTTP request sent, awaiting response... 200 OK\n",
            "Length: 19171 (19K) [text/plain]\n",
            "Saving to: ‘train.csv’\n",
            "\n",
            "\rtrain.csv             0%[                    ]       0  --.-KB/s               \rtrain.csv           100%[===================>]  18.72K  --.-KB/s    in 0.007s  \n",
            "\n",
            "2019-06-06 10:52:15 (2.68 MB/s) - ‘train.csv’ saved [19171/19171]\n",
            "\n"
          ],
          "name": "stdout"
        }
      ]
    },
    {
      "cell_type": "markdown",
      "metadata": {
        "id": "b8DL3TIBOikx",
        "colab_type": "text"
      },
      "source": [
        "Lo cargamos"
      ]
    },
    {
      "cell_type": "code",
      "metadata": {
        "id": "UFvbO-W6Oeea",
        "colab_type": "code",
        "colab": {}
      },
      "source": [
        "traindf = pd.read_csv(\"train.csv\")"
      ],
      "execution_count": 0,
      "outputs": []
    },
    {
      "cell_type": "markdown",
      "metadata": {
        "id": "SoYj9k1zOkv_",
        "colab_type": "text"
      },
      "source": [
        "Cambiamos el tipo de Gender y Prediction para que sea numerico"
      ]
    },
    {
      "cell_type": "code",
      "metadata": {
        "id": "bZjUIAmEO5Pn",
        "colab_type": "code",
        "colab": {
          "base_uri": "https://localhost:8080/",
          "height": 187
        },
        "outputId": "59534adf-9cc4-41e7-e669-90b6b6e3168d"
      },
      "source": [
        "traindf.Gender[traindf.Gender == 'Male'] = 1\n",
        "traindf.Gender[traindf.Gender == 'Female'] = 0"
      ],
      "execution_count": 5,
      "outputs": [
        {
          "output_type": "stream",
          "text": [
            "/usr/local/lib/python3.6/dist-packages/ipykernel_launcher.py:1: SettingWithCopyWarning: \n",
            "A value is trying to be set on a copy of a slice from a DataFrame\n",
            "\n",
            "See the caveats in the documentation: http://pandas.pydata.org/pandas-docs/stable/indexing.html#indexing-view-versus-copy\n",
            "  \"\"\"Entry point for launching an IPython kernel.\n",
            "/usr/local/lib/python3.6/dist-packages/ipykernel_launcher.py:2: SettingWithCopyWarning: \n",
            "A value is trying to be set on a copy of a slice from a DataFrame\n",
            "\n",
            "See the caveats in the documentation: http://pandas.pydata.org/pandas-docs/stable/indexing.html#indexing-view-versus-copy\n",
            "  \n"
          ],
          "name": "stderr"
        }
      ]
    },
    {
      "cell_type": "code",
      "metadata": {
        "id": "0z7YhzILPHdK",
        "colab_type": "code",
        "colab": {}
      },
      "source": [
        "traindf['Gender']=traindf['Gender'].astype('int64')"
      ],
      "execution_count": 0,
      "outputs": []
    },
    {
      "cell_type": "code",
      "metadata": {
        "id": "cE2Ja5F0PQEE",
        "colab_type": "code",
        "colab": {}
      },
      "source": [
        "traindf['Prediction']=traindf['Prediction'].astype('int64')"
      ],
      "execution_count": 0,
      "outputs": []
    },
    {
      "cell_type": "markdown",
      "metadata": {
        "id": "SfGusPbJPXvA",
        "colab_type": "text"
      },
      "source": [
        "Transformamos los datos"
      ]
    },
    {
      "cell_type": "code",
      "metadata": {
        "id": "_b5_Zl3kPZ1P",
        "colab_type": "code",
        "colab": {}
      },
      "source": [
        "traindata = traindf.values"
      ],
      "execution_count": 0,
      "outputs": []
    },
    {
      "cell_type": "markdown",
      "metadata": {
        "id": "h1bimGSTPgX0",
        "colab_type": "text"
      },
      "source": [
        "Vamos a separar los descriptores de clases"
      ]
    },
    {
      "cell_type": "code",
      "metadata": {
        "id": "YMKe2Ph8PlhD",
        "colab_type": "code",
        "colab": {}
      },
      "source": [
        "descriptores,clases = traindata[:,0:-1],traindata[:,-1]"
      ],
      "execution_count": 0,
      "outputs": []
    },
    {
      "cell_type": "markdown",
      "metadata": {
        "id": "EiZOEDSLQEDa",
        "colab_type": "text"
      },
      "source": [
        "Pasamos las clases a formato adecuado"
      ]
    },
    {
      "cell_type": "code",
      "metadata": {
        "id": "p-0iYIXqP5pt",
        "colab_type": "code",
        "colab": {}
      },
      "source": [
        "clases = [1 if clase==True else 0 for clase in clases]"
      ],
      "execution_count": 0,
      "outputs": []
    },
    {
      "cell_type": "markdown",
      "metadata": {
        "id": "v-cUyOFXQJcT",
        "colab_type": "text"
      },
      "source": [
        "Vamos a construir el clasificador"
      ]
    },
    {
      "cell_type": "code",
      "metadata": {
        "id": "cAVGMKbkQTj1",
        "colab_type": "code",
        "colab": {}
      },
      "source": [
        "modelArbol = DecisionTreeClassifier(min_samples_split=7)"
      ],
      "execution_count": 0,
      "outputs": []
    },
    {
      "cell_type": "markdown",
      "metadata": {
        "id": "-I5chgrrT37A",
        "colab_type": "text"
      },
      "source": [
        "Entrenamos el modelo"
      ]
    },
    {
      "cell_type": "code",
      "metadata": {
        "id": "B2MEFC2kT_rH",
        "colab_type": "code",
        "colab": {
          "base_uri": "https://localhost:8080/",
          "height": 119
        },
        "outputId": "9ca3aefd-550e-4bbd-d7dd-1f9bcb2726a4"
      },
      "source": [
        "modelArbol.fit(descriptores,clases)"
      ],
      "execution_count": 12,
      "outputs": [
        {
          "output_type": "execute_result",
          "data": {
            "text/plain": [
              "DecisionTreeClassifier(class_weight=None, criterion='gini', max_depth=None,\n",
              "                       max_features=None, max_leaf_nodes=None,\n",
              "                       min_impurity_decrease=0.0, min_impurity_split=None,\n",
              "                       min_samples_leaf=1, min_samples_split=7,\n",
              "                       min_weight_fraction_leaf=0.0, presort=False,\n",
              "                       random_state=None, splitter='best')"
            ]
          },
          "metadata": {
            "tags": []
          },
          "execution_count": 12
        }
      ]
    },
    {
      "cell_type": "markdown",
      "metadata": {
        "id": "4Qk24Neha_53",
        "colab_type": "text"
      },
      "source": [
        "Cargamos el conjunto de test"
      ]
    },
    {
      "cell_type": "code",
      "metadata": {
        "id": "aVm5EmTXbIFI",
        "colab_type": "code",
        "colab": {
          "base_uri": "https://localhost:8080/",
          "height": 204
        },
        "outputId": "aaa89852-0134-4bbd-a783-8057df48a090"
      },
      "source": [
        "!wget https://raw.githubusercontent.com/ismarano/IAEntregable2/master/test.csv -O test.csv"
      ],
      "execution_count": 13,
      "outputs": [
        {
          "output_type": "stream",
          "text": [
            "--2019-06-06 10:54:10--  https://raw.githubusercontent.com/ismarano/IAEntregable2/master/test.csv\n",
            "Resolving raw.githubusercontent.com (raw.githubusercontent.com)... 151.101.0.133, 151.101.64.133, 151.101.128.133, ...\n",
            "Connecting to raw.githubusercontent.com (raw.githubusercontent.com)|151.101.0.133|:443... connected.\n",
            "HTTP request sent, awaiting response... 200 OK\n",
            "Length: 5679 (5.5K) [text/plain]\n",
            "Saving to: ‘test.csv’\n",
            "\n",
            "\rtest.csv              0%[                    ]       0  --.-KB/s               \rtest.csv            100%[===================>]   5.55K  --.-KB/s    in 0s      \n",
            "\n",
            "2019-06-06 10:54:10 (67.4 MB/s) - ‘test.csv’ saved [5679/5679]\n",
            "\n"
          ],
          "name": "stdout"
        }
      ]
    },
    {
      "cell_type": "code",
      "metadata": {
        "id": "IycjcQVQbU1T",
        "colab_type": "code",
        "colab": {}
      },
      "source": [
        "testdf = pd.read_csv(\"test.csv\")"
      ],
      "execution_count": 0,
      "outputs": []
    },
    {
      "cell_type": "markdown",
      "metadata": {
        "id": "yIzPx5gdb0oT",
        "colab_type": "text"
      },
      "source": [
        "Cambiamos los tipos del conjunto de test"
      ]
    },
    {
      "cell_type": "code",
      "metadata": {
        "id": "06TPWTu-b7-W",
        "colab_type": "code",
        "colab": {
          "base_uri": "https://localhost:8080/",
          "height": 187
        },
        "outputId": "7f014b32-7e7f-4565-c697-4d118d9b7308"
      },
      "source": [
        "testdf.Gender[testdf.Gender == 'Male'] = 1\n",
        "testdf.Gender[testdf.Gender == 'Female'] = 0"
      ],
      "execution_count": 18,
      "outputs": [
        {
          "output_type": "stream",
          "text": [
            "/usr/local/lib/python3.6/dist-packages/ipykernel_launcher.py:1: SettingWithCopyWarning: \n",
            "A value is trying to be set on a copy of a slice from a DataFrame\n",
            "\n",
            "See the caveats in the documentation: http://pandas.pydata.org/pandas-docs/stable/indexing.html#indexing-view-versus-copy\n",
            "  \"\"\"Entry point for launching an IPython kernel.\n",
            "/usr/local/lib/python3.6/dist-packages/ipykernel_launcher.py:2: SettingWithCopyWarning: \n",
            "A value is trying to be set on a copy of a slice from a DataFrame\n",
            "\n",
            "See the caveats in the documentation: http://pandas.pydata.org/pandas-docs/stable/indexing.html#indexing-view-versus-copy\n",
            "  \n"
          ],
          "name": "stderr"
        }
      ]
    },
    {
      "cell_type": "code",
      "metadata": {
        "id": "0aBBOK5KcH5R",
        "colab_type": "code",
        "colab": {}
      },
      "source": [
        "testdf['Gender']=testdf['Gender'].astype('int64')"
      ],
      "execution_count": 0,
      "outputs": []
    },
    {
      "cell_type": "code",
      "metadata": {
        "id": "12OSJSr_c7qt",
        "colab_type": "code",
        "colab": {}
      },
      "source": [
        "testdata = testdf.values"
      ],
      "execution_count": 0,
      "outputs": []
    },
    {
      "cell_type": "markdown",
      "metadata": {
        "id": "Ue5jC9CAcUhY",
        "colab_type": "text"
      },
      "source": [
        "Realizamos las predicciones"
      ]
    },
    {
      "cell_type": "code",
      "metadata": {
        "id": "zjzGs2_ecbJd",
        "colab_type": "code",
        "colab": {}
      },
      "source": [
        "predicciones = modelArbol.predict(testdata)"
      ],
      "execution_count": 0,
      "outputs": []
    },
    {
      "cell_type": "markdown",
      "metadata": {
        "id": "3apC2iTudCaw",
        "colab_type": "text"
      },
      "source": [
        "Convertimos las predicciones al formato adecuado"
      ]
    },
    {
      "cell_type": "code",
      "metadata": {
        "id": "WV_iqe-tc-0l",
        "colab_type": "code",
        "colab": {}
      },
      "source": [
        "predicciones = [True if prediccion==1 else False for prediccion in predicciones]"
      ],
      "execution_count": 0,
      "outputs": []
    },
    {
      "cell_type": "markdown",
      "metadata": {
        "id": "czIvyCyOdHLG",
        "colab_type": "text"
      },
      "source": [
        "Construimos el dataframe"
      ]
    },
    {
      "cell_type": "code",
      "metadata": {
        "id": "sQ_lwVzOdTst",
        "colab_type": "code",
        "colab": {}
      },
      "source": [
        "soldf = pd.DataFrame(list(enumerate(predicciones)))"
      ],
      "execution_count": 0,
      "outputs": []
    },
    {
      "cell_type": "markdown",
      "metadata": {
        "id": "9hd_5d73ddiG",
        "colab_type": "text"
      },
      "source": [
        "Construimos la cabecera"
      ]
    },
    {
      "cell_type": "code",
      "metadata": {
        "id": "Zrn2OoNOdfpT",
        "colab_type": "code",
        "colab": {}
      },
      "source": [
        "soldf.columns = ['Id','Prediction']"
      ],
      "execution_count": 0,
      "outputs": []
    },
    {
      "cell_type": "markdown",
      "metadata": {
        "id": "oh8FuPNudncX",
        "colab_type": "text"
      },
      "source": [
        "Se muestra del dataframe"
      ]
    },
    {
      "cell_type": "code",
      "metadata": {
        "id": "zGBjv400dj3c",
        "colab_type": "code",
        "colab": {
          "base_uri": "https://localhost:8080/",
          "height": 1969
        },
        "outputId": "5537e14b-1350-490e-9217-bcdc376ad271"
      },
      "source": [
        "soldf"
      ],
      "execution_count": 27,
      "outputs": [
        {
          "output_type": "execute_result",
          "data": {
            "text/html": [
              "<div>\n",
              "<style scoped>\n",
              "    .dataframe tbody tr th:only-of-type {\n",
              "        vertical-align: middle;\n",
              "    }\n",
              "\n",
              "    .dataframe tbody tr th {\n",
              "        vertical-align: top;\n",
              "    }\n",
              "\n",
              "    .dataframe thead th {\n",
              "        text-align: right;\n",
              "    }\n",
              "</style>\n",
              "<table border=\"1\" class=\"dataframe\">\n",
              "  <thead>\n",
              "    <tr style=\"text-align: right;\">\n",
              "      <th></th>\n",
              "      <th>Id</th>\n",
              "      <th>Prediction</th>\n",
              "    </tr>\n",
              "  </thead>\n",
              "  <tbody>\n",
              "    <tr>\n",
              "      <th>0</th>\n",
              "      <td>0</td>\n",
              "      <td>True</td>\n",
              "    </tr>\n",
              "    <tr>\n",
              "      <th>1</th>\n",
              "      <td>1</td>\n",
              "      <td>False</td>\n",
              "    </tr>\n",
              "    <tr>\n",
              "      <th>2</th>\n",
              "      <td>2</td>\n",
              "      <td>True</td>\n",
              "    </tr>\n",
              "    <tr>\n",
              "      <th>3</th>\n",
              "      <td>3</td>\n",
              "      <td>False</td>\n",
              "    </tr>\n",
              "    <tr>\n",
              "      <th>4</th>\n",
              "      <td>4</td>\n",
              "      <td>False</td>\n",
              "    </tr>\n",
              "    <tr>\n",
              "      <th>5</th>\n",
              "      <td>5</td>\n",
              "      <td>False</td>\n",
              "    </tr>\n",
              "    <tr>\n",
              "      <th>6</th>\n",
              "      <td>6</td>\n",
              "      <td>False</td>\n",
              "    </tr>\n",
              "    <tr>\n",
              "      <th>7</th>\n",
              "      <td>7</td>\n",
              "      <td>True</td>\n",
              "    </tr>\n",
              "    <tr>\n",
              "      <th>8</th>\n",
              "      <td>8</td>\n",
              "      <td>True</td>\n",
              "    </tr>\n",
              "    <tr>\n",
              "      <th>9</th>\n",
              "      <td>9</td>\n",
              "      <td>False</td>\n",
              "    </tr>\n",
              "    <tr>\n",
              "      <th>10</th>\n",
              "      <td>10</td>\n",
              "      <td>False</td>\n",
              "    </tr>\n",
              "    <tr>\n",
              "      <th>11</th>\n",
              "      <td>11</td>\n",
              "      <td>False</td>\n",
              "    </tr>\n",
              "    <tr>\n",
              "      <th>12</th>\n",
              "      <td>12</td>\n",
              "      <td>True</td>\n",
              "    </tr>\n",
              "    <tr>\n",
              "      <th>13</th>\n",
              "      <td>13</td>\n",
              "      <td>False</td>\n",
              "    </tr>\n",
              "    <tr>\n",
              "      <th>14</th>\n",
              "      <td>14</td>\n",
              "      <td>True</td>\n",
              "    </tr>\n",
              "    <tr>\n",
              "      <th>15</th>\n",
              "      <td>15</td>\n",
              "      <td>False</td>\n",
              "    </tr>\n",
              "    <tr>\n",
              "      <th>16</th>\n",
              "      <td>16</td>\n",
              "      <td>False</td>\n",
              "    </tr>\n",
              "    <tr>\n",
              "      <th>17</th>\n",
              "      <td>17</td>\n",
              "      <td>True</td>\n",
              "    </tr>\n",
              "    <tr>\n",
              "      <th>18</th>\n",
              "      <td>18</td>\n",
              "      <td>False</td>\n",
              "    </tr>\n",
              "    <tr>\n",
              "      <th>19</th>\n",
              "      <td>19</td>\n",
              "      <td>False</td>\n",
              "    </tr>\n",
              "    <tr>\n",
              "      <th>20</th>\n",
              "      <td>20</td>\n",
              "      <td>False</td>\n",
              "    </tr>\n",
              "    <tr>\n",
              "      <th>21</th>\n",
              "      <td>21</td>\n",
              "      <td>False</td>\n",
              "    </tr>\n",
              "    <tr>\n",
              "      <th>22</th>\n",
              "      <td>22</td>\n",
              "      <td>True</td>\n",
              "    </tr>\n",
              "    <tr>\n",
              "      <th>23</th>\n",
              "      <td>23</td>\n",
              "      <td>True</td>\n",
              "    </tr>\n",
              "    <tr>\n",
              "      <th>24</th>\n",
              "      <td>24</td>\n",
              "      <td>False</td>\n",
              "    </tr>\n",
              "    <tr>\n",
              "      <th>25</th>\n",
              "      <td>25</td>\n",
              "      <td>False</td>\n",
              "    </tr>\n",
              "    <tr>\n",
              "      <th>26</th>\n",
              "      <td>26</td>\n",
              "      <td>False</td>\n",
              "    </tr>\n",
              "    <tr>\n",
              "      <th>27</th>\n",
              "      <td>27</td>\n",
              "      <td>True</td>\n",
              "    </tr>\n",
              "    <tr>\n",
              "      <th>28</th>\n",
              "      <td>28</td>\n",
              "      <td>True</td>\n",
              "    </tr>\n",
              "    <tr>\n",
              "      <th>29</th>\n",
              "      <td>29</td>\n",
              "      <td>False</td>\n",
              "    </tr>\n",
              "    <tr>\n",
              "      <th>...</th>\n",
              "      <td>...</td>\n",
              "      <td>...</td>\n",
              "    </tr>\n",
              "    <tr>\n",
              "      <th>116</th>\n",
              "      <td>116</td>\n",
              "      <td>False</td>\n",
              "    </tr>\n",
              "    <tr>\n",
              "      <th>117</th>\n",
              "      <td>117</td>\n",
              "      <td>False</td>\n",
              "    </tr>\n",
              "    <tr>\n",
              "      <th>118</th>\n",
              "      <td>118</td>\n",
              "      <td>False</td>\n",
              "    </tr>\n",
              "    <tr>\n",
              "      <th>119</th>\n",
              "      <td>119</td>\n",
              "      <td>False</td>\n",
              "    </tr>\n",
              "    <tr>\n",
              "      <th>120</th>\n",
              "      <td>120</td>\n",
              "      <td>False</td>\n",
              "    </tr>\n",
              "    <tr>\n",
              "      <th>121</th>\n",
              "      <td>121</td>\n",
              "      <td>False</td>\n",
              "    </tr>\n",
              "    <tr>\n",
              "      <th>122</th>\n",
              "      <td>122</td>\n",
              "      <td>False</td>\n",
              "    </tr>\n",
              "    <tr>\n",
              "      <th>123</th>\n",
              "      <td>123</td>\n",
              "      <td>False</td>\n",
              "    </tr>\n",
              "    <tr>\n",
              "      <th>124</th>\n",
              "      <td>124</td>\n",
              "      <td>True</td>\n",
              "    </tr>\n",
              "    <tr>\n",
              "      <th>125</th>\n",
              "      <td>125</td>\n",
              "      <td>False</td>\n",
              "    </tr>\n",
              "    <tr>\n",
              "      <th>126</th>\n",
              "      <td>126</td>\n",
              "      <td>False</td>\n",
              "    </tr>\n",
              "    <tr>\n",
              "      <th>127</th>\n",
              "      <td>127</td>\n",
              "      <td>False</td>\n",
              "    </tr>\n",
              "    <tr>\n",
              "      <th>128</th>\n",
              "      <td>128</td>\n",
              "      <td>True</td>\n",
              "    </tr>\n",
              "    <tr>\n",
              "      <th>129</th>\n",
              "      <td>129</td>\n",
              "      <td>False</td>\n",
              "    </tr>\n",
              "    <tr>\n",
              "      <th>130</th>\n",
              "      <td>130</td>\n",
              "      <td>False</td>\n",
              "    </tr>\n",
              "    <tr>\n",
              "      <th>131</th>\n",
              "      <td>131</td>\n",
              "      <td>False</td>\n",
              "    </tr>\n",
              "    <tr>\n",
              "      <th>132</th>\n",
              "      <td>132</td>\n",
              "      <td>True</td>\n",
              "    </tr>\n",
              "    <tr>\n",
              "      <th>133</th>\n",
              "      <td>133</td>\n",
              "      <td>True</td>\n",
              "    </tr>\n",
              "    <tr>\n",
              "      <th>134</th>\n",
              "      <td>134</td>\n",
              "      <td>False</td>\n",
              "    </tr>\n",
              "    <tr>\n",
              "      <th>135</th>\n",
              "      <td>135</td>\n",
              "      <td>False</td>\n",
              "    </tr>\n",
              "    <tr>\n",
              "      <th>136</th>\n",
              "      <td>136</td>\n",
              "      <td>False</td>\n",
              "    </tr>\n",
              "    <tr>\n",
              "      <th>137</th>\n",
              "      <td>137</td>\n",
              "      <td>False</td>\n",
              "    </tr>\n",
              "    <tr>\n",
              "      <th>138</th>\n",
              "      <td>138</td>\n",
              "      <td>False</td>\n",
              "    </tr>\n",
              "    <tr>\n",
              "      <th>139</th>\n",
              "      <td>139</td>\n",
              "      <td>True</td>\n",
              "    </tr>\n",
              "    <tr>\n",
              "      <th>140</th>\n",
              "      <td>140</td>\n",
              "      <td>False</td>\n",
              "    </tr>\n",
              "    <tr>\n",
              "      <th>141</th>\n",
              "      <td>141</td>\n",
              "      <td>False</td>\n",
              "    </tr>\n",
              "    <tr>\n",
              "      <th>142</th>\n",
              "      <td>142</td>\n",
              "      <td>True</td>\n",
              "    </tr>\n",
              "    <tr>\n",
              "      <th>143</th>\n",
              "      <td>143</td>\n",
              "      <td>False</td>\n",
              "    </tr>\n",
              "    <tr>\n",
              "      <th>144</th>\n",
              "      <td>144</td>\n",
              "      <td>False</td>\n",
              "    </tr>\n",
              "    <tr>\n",
              "      <th>145</th>\n",
              "      <td>145</td>\n",
              "      <td>False</td>\n",
              "    </tr>\n",
              "  </tbody>\n",
              "</table>\n",
              "<p>146 rows × 2 columns</p>\n",
              "</div>"
            ],
            "text/plain": [
              "      Id  Prediction\n",
              "0      0        True\n",
              "1      1       False\n",
              "2      2        True\n",
              "3      3       False\n",
              "4      4       False\n",
              "5      5       False\n",
              "6      6       False\n",
              "7      7        True\n",
              "8      8        True\n",
              "9      9       False\n",
              "10    10       False\n",
              "11    11       False\n",
              "12    12        True\n",
              "13    13       False\n",
              "14    14        True\n",
              "15    15       False\n",
              "16    16       False\n",
              "17    17        True\n",
              "18    18       False\n",
              "19    19       False\n",
              "20    20       False\n",
              "21    21       False\n",
              "22    22        True\n",
              "23    23        True\n",
              "24    24       False\n",
              "25    25       False\n",
              "26    26       False\n",
              "27    27        True\n",
              "28    28        True\n",
              "29    29       False\n",
              "..   ...         ...\n",
              "116  116       False\n",
              "117  117       False\n",
              "118  118       False\n",
              "119  119       False\n",
              "120  120       False\n",
              "121  121       False\n",
              "122  122       False\n",
              "123  123       False\n",
              "124  124        True\n",
              "125  125       False\n",
              "126  126       False\n",
              "127  127       False\n",
              "128  128        True\n",
              "129  129       False\n",
              "130  130       False\n",
              "131  131       False\n",
              "132  132        True\n",
              "133  133        True\n",
              "134  134       False\n",
              "135  135       False\n",
              "136  136       False\n",
              "137  137       False\n",
              "138  138       False\n",
              "139  139        True\n",
              "140  140       False\n",
              "141  141       False\n",
              "142  142        True\n",
              "143  143       False\n",
              "144  144       False\n",
              "145  145       False\n",
              "\n",
              "[146 rows x 2 columns]"
            ]
          },
          "metadata": {
            "tags": []
          },
          "execution_count": 27
        }
      ]
    },
    {
      "cell_type": "markdown",
      "metadata": {
        "id": "2PPIA1FVdvQO",
        "colab_type": "text"
      },
      "source": [
        "Guardamos el dataframe"
      ]
    },
    {
      "cell_type": "code",
      "metadata": {
        "id": "WD3Z931JdyfJ",
        "colab_type": "code",
        "colab": {}
      },
      "source": [
        "soldf.to_csv(\"submission.csv\",sep=',',index=False)"
      ],
      "execution_count": 0,
      "outputs": []
    }
  ]
}