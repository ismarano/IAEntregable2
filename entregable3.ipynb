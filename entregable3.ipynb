{
  "nbformat": 4,
  "nbformat_minor": 0,
  "metadata": {
    "colab": {
      "name": "entregable3.ipynb",
      "version": "0.3.2",
      "provenance": [],
      "include_colab_link": true
    },
    "kernelspec": {
      "name": "python3",
      "display_name": "Python 3"
    }
  },
  "cells": [
    {
      "cell_type": "markdown",
      "metadata": {
        "id": "view-in-github",
        "colab_type": "text"
      },
      "source": [
        "<a href=\"https://colab.research.google.com/github/ismarano/IAEntregable2/blob/master/entregable3.ipynb\" target=\"_parent\"><img src=\"https://colab.research.google.com/assets/colab-badge.svg\" alt=\"Open In Colab\"/></a>"
      ]
    },
    {
      "cell_type": "markdown",
      "metadata": {
        "id": "XIQICGCzh8Vo",
        "colab_type": "text"
      },
      "source": [
        "# Entregable 3"
      ]
    },
    {
      "cell_type": "markdown",
      "metadata": {
        "id": "5Qs2SvGziEhG",
        "colab_type": "text"
      },
      "source": [
        "Importamos las librerias de fastai y os"
      ]
    },
    {
      "cell_type": "code",
      "metadata": {
        "id": "ivGiA7Gthl5X",
        "colab_type": "code",
        "colab": {}
      },
      "source": [
        "from fastai.vision import *\n",
        "import os\n",
        "from google.colab import files"
      ],
      "execution_count": 0,
      "outputs": []
    },
    {
      "cell_type": "markdown",
      "metadata": {
        "id": "7rWQ5zQjiMlu",
        "colab_type": "text"
      },
      "source": [
        "Vamos a buscar las imagenes, en este caso de coches, motos y camiones. Creamos archivos csv de cada uno."
      ]
    },
    {
      "cell_type": "markdown",
      "metadata": {
        "id": "lSk_tedIkslQ",
        "colab_type": "text"
      },
      "source": [
        "Descargamos los ficheros"
      ]
    },
    {
      "cell_type": "code",
      "metadata": {
        "id": "W8DWKTEulTov",
        "colab_type": "code",
        "colab": {
          "base_uri": "https://localhost:8080/",
          "height": 578
        },
        "outputId": "6fc4bc4b-c470-4211-fad0-a8dd852a8871"
      },
      "source": [
        "!wget https://raw.githubusercontent.com/IA1819/entregable3-ismarano/master/coche.csv?token=AKN7FSGGXML4AOVP4FX7EG244WF42 -O coche.csv\n",
        "!wget https://raw.githubusercontent.com/IA1819/entregable3-ismarano/master/moto.csv?token=AKN7FSE7LRMLG7RE6ZEHFHC44WFAS -O moto.csv\n",
        "!wget https://raw.githubusercontent.com/IA1819/entregable3-ismarano/master/camion.csv?token=AKN7FSGB6FUXUX547UEWAN244WEY2 -O camion.csv"
      ],
      "execution_count": 7,
      "outputs": [
        {
          "output_type": "stream",
          "text": [
            "--2019-05-15 17:50:21--  https://raw.githubusercontent.com/IA1819/entregable3-ismarano/master/coche.csv?token=AKN7FSGGXML4AOVP4FX7EG244WF42\n",
            "Resolving raw.githubusercontent.com (raw.githubusercontent.com)... 151.101.0.133, 151.101.64.133, 151.101.128.133, ...\n",
            "Connecting to raw.githubusercontent.com (raw.githubusercontent.com)|151.101.0.133|:443... connected.\n",
            "HTTP request sent, awaiting response... 200 OK\n",
            "Length: 9680 (9.5K) [text/plain]\n",
            "Saving to: ‘coche.csv’\n",
            "\n",
            "\rcoche.csv             0%[                    ]       0  --.-KB/s               \rcoche.csv           100%[===================>]   9.45K  --.-KB/s    in 0s      \n",
            "\n",
            "2019-05-15 17:50:21 (77.2 MB/s) - ‘coche.csv’ saved [9680/9680]\n",
            "\n",
            "--2019-05-15 17:50:22--  https://raw.githubusercontent.com/IA1819/entregable3-ismarano/master/moto.csv?token=AKN7FSE7LRMLG7RE6ZEHFHC44WFAS\n",
            "Resolving raw.githubusercontent.com (raw.githubusercontent.com)... 151.101.0.133, 151.101.64.133, 151.101.128.133, ...\n",
            "Connecting to raw.githubusercontent.com (raw.githubusercontent.com)|151.101.0.133|:443... connected.\n",
            "HTTP request sent, awaiting response... 200 OK\n",
            "Length: 9762 (9.5K) [text/plain]\n",
            "Saving to: ‘moto.csv’\n",
            "\n",
            "moto.csv            100%[===================>]   9.53K  --.-KB/s    in 0s      \n",
            "\n",
            "2019-05-15 17:50:22 (86.9 MB/s) - ‘moto.csv’ saved [9762/9762]\n",
            "\n",
            "--2019-05-15 17:50:23--  https://raw.githubusercontent.com/IA1819/entregable3-ismarano/master/camion.csv?token=AKN7FSGB6FUXUX547UEWAN244WEY2\n",
            "Resolving raw.githubusercontent.com (raw.githubusercontent.com)... 151.101.0.133, 151.101.64.133, 151.101.128.133, ...\n",
            "Connecting to raw.githubusercontent.com (raw.githubusercontent.com)|151.101.0.133|:443... connected.\n",
            "HTTP request sent, awaiting response... 200 OK\n",
            "Length: 9626 (9.4K) [text/plain]\n",
            "Saving to: ‘camion.csv’\n",
            "\n",
            "camion.csv          100%[===================>]   9.40K  --.-KB/s    in 0s      \n",
            "\n",
            "2019-05-15 17:50:24 (95.9 MB/s) - ‘camion.csv’ saved [9626/9626]\n",
            "\n"
          ],
          "name": "stdout"
        }
      ]
    },
    {
      "cell_type": "markdown",
      "metadata": {
        "id": "VzQ1RbolmEcf",
        "colab_type": "text"
      },
      "source": [
        "Vamos a descargar las imagenes y ordenarlas por carpetas"
      ]
    },
    {
      "cell_type": "code",
      "metadata": {
        "id": "Y-h7CMVvmSWH",
        "colab_type": "code",
        "colab": {
          "base_uri": "https://localhost:8080/",
          "height": 91
        },
        "outputId": "493662c0-9c75-402b-f0aa-1575dae0173a"
      },
      "source": [
        "folder = 'coche'\n",
        "file = 'coche.csv'\n",
        "path = Path('data/vehiculos')\n",
        "dest = path/folder\n",
        "dest.mkdir(parents=True,exist_ok=True)\n",
        "os.rename(file,path/file)\n",
        "# Como mucho descargamos 200 imágenes\n",
        "download_images(path/file,dest,max_pics=200)"
      ],
      "execution_count": 8,
      "outputs": [
        {
          "output_type": "display_data",
          "data": {
            "text/html": [
              "\n",
              "    <div>\n",
              "        <style>\n",
              "            /* Turns off some styling */\n",
              "            progress {\n",
              "                /* gets rid of default border in Firefox and Opera. */\n",
              "                border: none;\n",
              "                /* Needs to be in here for Safari polyfill so background images work as expected. */\n",
              "                background-size: auto;\n",
              "            }\n",
              "            .progress-bar-interrupted, .progress-bar-interrupted::-webkit-progress-bar {\n",
              "                background: #F44336;\n",
              "            }\n",
              "        </style>\n",
              "      <progress value='100' class='' max='100', style='width:300px; height:20px; vertical-align: middle;'></progress>\n",
              "      100.00% [100/100 00:08<00:00]\n",
              "    </div>\n",
              "    "
            ],
            "text/plain": [
              "<IPython.core.display.HTML object>"
            ]
          },
          "metadata": {
            "tags": []
          }
        },
        {
          "output_type": "stream",
          "text": [
            "Error https://www.todococheszafra.com/wp-content/uploads/2018/08/logo2018.png ('Connection aborted.', RemoteDisconnected('Remote end closed connection without response',))\n",
            "Error https://s5.eestatic.com/2018/11/06/reportajes/Coche_electrico-Venta_de_coches-Medio_Ambiente-Salon_del_Automovil_de_Paris-Reportajes_351227643_104663659_1706x960.jpg HTTPSConnectionPool(host='s5.eestatic.com', port=443): Read timed out. (read timeout=4)\n"
          ],
          "name": "stdout"
        }
      ]
    },
    {
      "cell_type": "code",
      "metadata": {
        "id": "v62CHWMLmd2X",
        "colab_type": "code",
        "colab": {
          "base_uri": "https://localhost:8080/",
          "height": 74
        },
        "outputId": "6a2a363b-8ba6-4a42-e71e-43f16c4497a9"
      },
      "source": [
        "folder = 'moto'\n",
        "file = 'moto.csv'\n",
        "path = Path('data/vehiculos')\n",
        "dest = path/folder\n",
        "dest.mkdir(parents=True,exist_ok=True)\n",
        "os.rename(file,path/file)\n",
        "# Como mucho descargamos 200 imágenes\n",
        "download_images(path/file,dest,max_pics=200)"
      ],
      "execution_count": 5,
      "outputs": [
        {
          "output_type": "display_data",
          "data": {
            "text/html": [
              "\n",
              "    <div>\n",
              "        <style>\n",
              "            /* Turns off some styling */\n",
              "            progress {\n",
              "                /* gets rid of default border in Firefox and Opera. */\n",
              "                border: none;\n",
              "                /* Needs to be in here for Safari polyfill so background images work as expected. */\n",
              "                background-size: auto;\n",
              "            }\n",
              "            .progress-bar-interrupted, .progress-bar-interrupted::-webkit-progress-bar {\n",
              "                background: #F44336;\n",
              "            }\n",
              "        </style>\n",
              "      <progress value='100' class='' max='100', style='width:300px; height:20px; vertical-align: middle;'></progress>\n",
              "      100.00% [100/100 00:08<00:00]\n",
              "    </div>\n",
              "    "
            ],
            "text/plain": [
              "<IPython.core.display.HTML object>"
            ]
          },
          "metadata": {
            "tags": []
          }
        },
        {
          "output_type": "stream",
          "text": [
            "Error https://www.pontgrup.com/img/seguros-moto/seguros-de-moto-deportivas.png HTTPSConnectionPool(host='www.pontgrup.com', port=443): Max retries exceeded with url: /img/seguros-moto/seguros-de-moto-deportivas.png (Caused by NewConnectionError('<urllib3.connection.VerifiedHTTPSConnection object at 0x7f3fede58240>: Failed to establish a new connection: [Errno -5] No address associated with hostname',))\n"
          ],
          "name": "stdout"
        }
      ]
    },
    {
      "cell_type": "code",
      "metadata": {
        "id": "zv4lnirYmmaX",
        "colab_type": "code",
        "colab": {
          "base_uri": "https://localhost:8080/",
          "height": 91
        },
        "outputId": "480bce0a-4aa8-4a03-e5ab-690ae0657bed"
      },
      "source": [
        "folder = 'camion'\n",
        "file = 'camion.csv'\n",
        "path = Path('data/vehiculos')\n",
        "dest = path/folder\n",
        "dest.mkdir(parents=True,exist_ok=True)\n",
        "os.rename(file,path/file)\n",
        "# Como mucho descargamos 200 imágenes\n",
        "download_images(path/file,dest,max_pics=200)"
      ],
      "execution_count": 6,
      "outputs": [
        {
          "output_type": "display_data",
          "data": {
            "text/html": [
              "\n",
              "    <div>\n",
              "        <style>\n",
              "            /* Turns off some styling */\n",
              "            progress {\n",
              "                /* gets rid of default border in Firefox and Opera. */\n",
              "                border: none;\n",
              "                /* Needs to be in here for Safari polyfill so background images work as expected. */\n",
              "                background-size: auto;\n",
              "            }\n",
              "            .progress-bar-interrupted, .progress-bar-interrupted::-webkit-progress-bar {\n",
              "                background: #F44336;\n",
              "            }\n",
              "        </style>\n",
              "      <progress value='100' class='' max='100', style='width:300px; height:20px; vertical-align: middle;'></progress>\n",
              "      100.00% [100/100 00:11<00:00]\n",
              "    </div>\n",
              "    "
            ],
            "text/plain": [
              "<IPython.core.display.HTML object>"
            ]
          },
          "metadata": {
            "tags": []
          }
        },
        {
          "output_type": "stream",
          "text": [
            "Error https://www.irizar.com/wp-content/uploads/2019/03/JAZ_763549r.jpg HTTPSConnectionPool(host='www.irizar.com', port=443): Max retries exceeded with url: /wp-content/uploads/2019/03/JAZ_763549r.jpg (Caused by NewConnectionError('<urllib3.connection.VerifiedHTTPSConnection object at 0x7f3fef4d6438>: Failed to establish a new connection: [Errno 111] Connection refused',))\n",
            "Error https://www.autonomosenruta.com/images/stories/imagenes_2017/imagenes_noviembre17/camion_scania450.jpg ('Connection aborted.', RemoteDisconnected('Remote end closed connection without response',))\n"
          ],
          "name": "stdout"
        }
      ]
    },
    {
      "cell_type": "markdown",
      "metadata": {
        "id": "gDeb8RWvnx7A",
        "colab_type": "text"
      },
      "source": [
        "Vamos a eliminar las imagenes que tengan un formato que no pueda ser abierto en la libreria"
      ]
    },
    {
      "cell_type": "code",
      "metadata": {
        "id": "UeNs1bf6oGR7",
        "colab_type": "code",
        "colab": {
          "base_uri": "https://localhost:8080/",
          "height": 621
        },
        "outputId": "afdbd1ac-d9cd-4062-f039-81dfec56d315"
      },
      "source": [
        "for c in ['coche','moto','camion']:\n",
        "  print(c)\n",
        "  verify_images(path/c,delete=True,max_size=500)"
      ],
      "execution_count": 10,
      "outputs": [
        {
          "output_type": "stream",
          "text": [
            "coche\n"
          ],
          "name": "stdout"
        },
        {
          "output_type": "display_data",
          "data": {
            "text/html": [
              "\n",
              "    <div>\n",
              "        <style>\n",
              "            /* Turns off some styling */\n",
              "            progress {\n",
              "                /* gets rid of default border in Firefox and Opera. */\n",
              "                border: none;\n",
              "                /* Needs to be in here for Safari polyfill so background images work as expected. */\n",
              "                background-size: auto;\n",
              "            }\n",
              "            .progress-bar-interrupted, .progress-bar-interrupted::-webkit-progress-bar {\n",
              "                background: #F44336;\n",
              "            }\n",
              "        </style>\n",
              "      <progress value='218' class='' max='218', style='width:300px; height:20px; vertical-align: middle;'></progress>\n",
              "      100.00% [218/218 00:03<00:00]\n",
              "    </div>\n",
              "    "
            ],
            "text/plain": [
              "<IPython.core.display.HTML object>"
            ]
          },
          "metadata": {
            "tags": []
          }
        },
        {
          "output_type": "stream",
          "text": [
            "/usr/local/lib/python3.6/dist-packages/PIL/Image.py:914: UserWarning: Palette images with Transparency   expressed in bytes should be converted to RGBA images\n",
            "  'to RGBA images')\n",
            "/usr/local/lib/python3.6/dist-packages/PIL/Image.py:914: UserWarning: Palette images with Transparency   expressed in bytes should be converted to RGBA images\n",
            "  'to RGBA images')\n"
          ],
          "name": "stderr"
        },
        {
          "output_type": "stream",
          "text": [
            "cannot identify image file <_io.BufferedReader name='data/vehiculos/coche/00000118.svg'>\n",
            "cannot identify image file <_io.BufferedReader name='data/vehiculos/coche/00000138.JPG'>\n",
            "cannot identify image file <_io.BufferedReader name='data/vehiculos/coche/00000073.svg'>\n"
          ],
          "name": "stdout"
        },
        {
          "output_type": "stream",
          "text": [
            "/usr/local/lib/python3.6/dist-packages/PIL/Image.py:967: UserWarning: Couldn't allocate palette entry for transparency\n",
            "  \"for transparency\")\n"
          ],
          "name": "stderr"
        },
        {
          "output_type": "stream",
          "text": [
            "int() argument must be a string, a bytes-like object or a number, not 'tuple'\n",
            "cannot identify image file <_io.BufferedReader name='data/vehiculos/coche/00000067.svg'>\n"
          ],
          "name": "stdout"
        },
        {
          "output_type": "stream",
          "text": [
            "/usr/local/lib/python3.6/dist-packages/PIL/Image.py:914: UserWarning: Palette images with Transparency   expressed in bytes should be converted to RGBA images\n",
            "  'to RGBA images')\n",
            "/usr/local/lib/python3.6/dist-packages/PIL/Image.py:967: UserWarning: Couldn't allocate palette entry for transparency\n",
            "  \"for transparency\")\n"
          ],
          "name": "stderr"
        },
        {
          "output_type": "stream",
          "text": [
            "int() argument must be a string, a bytes-like object or a number, not 'tuple'\n",
            "cannot identify image file <_io.BufferedReader name='data/vehiculos/coche/00000128.JPG'>\n",
            "moto\n"
          ],
          "name": "stdout"
        },
        {
          "output_type": "display_data",
          "data": {
            "text/html": [
              "\n",
              "    <div>\n",
              "        <style>\n",
              "            /* Turns off some styling */\n",
              "            progress {\n",
              "                /* gets rid of default border in Firefox and Opera. */\n",
              "                border: none;\n",
              "                /* Needs to be in here for Safari polyfill so background images work as expected. */\n",
              "                background-size: auto;\n",
              "            }\n",
              "            .progress-bar-interrupted, .progress-bar-interrupted::-webkit-progress-bar {\n",
              "                background: #F44336;\n",
              "            }\n",
              "        </style>\n",
              "      <progress value='98' class='' max='98', style='width:300px; height:20px; vertical-align: middle;'></progress>\n",
              "      100.00% [98/98 00:03<00:00]\n",
              "    </div>\n",
              "    "
            ],
            "text/plain": [
              "<IPython.core.display.HTML object>"
            ]
          },
          "metadata": {
            "tags": []
          }
        },
        {
          "output_type": "stream",
          "text": [
            "/usr/local/lib/python3.6/dist-packages/PIL/Image.py:914: UserWarning: Palette images with Transparency   expressed in bytes should be converted to RGBA images\n",
            "  'to RGBA images')\n"
          ],
          "name": "stderr"
        },
        {
          "output_type": "stream",
          "text": [
            "cannot identify image file <_io.BufferedReader name='data/vehiculos/moto/00000043.jpg'>\n",
            "cannot identify image file <_io.BufferedReader name='data/vehiculos/moto/00000071.jpg'>\n",
            "camion\n"
          ],
          "name": "stdout"
        },
        {
          "output_type": "display_data",
          "data": {
            "text/html": [
              "\n",
              "    <div>\n",
              "        <style>\n",
              "            /* Turns off some styling */\n",
              "            progress {\n",
              "                /* gets rid of default border in Firefox and Opera. */\n",
              "                border: none;\n",
              "                /* Needs to be in here for Safari polyfill so background images work as expected. */\n",
              "                background-size: auto;\n",
              "            }\n",
              "            .progress-bar-interrupted, .progress-bar-interrupted::-webkit-progress-bar {\n",
              "                background: #F44336;\n",
              "            }\n",
              "        </style>\n",
              "      <progress value='98' class='' max='98', style='width:300px; height:20px; vertical-align: middle;'></progress>\n",
              "      100.00% [98/98 00:03<00:00]\n",
              "    </div>\n",
              "    "
            ],
            "text/plain": [
              "<IPython.core.display.HTML object>"
            ]
          },
          "metadata": {
            "tags": []
          }
        },
        {
          "output_type": "stream",
          "text": [
            "cannot identify image file <_io.BufferedReader name='data/vehiculos/camion/00000088.jpg'>\n",
            "cannot identify image file <_io.BufferedReader name='data/vehiculos/camion/00000027.jpg'>\n",
            "cannot identify image file <_io.BufferedReader name='data/vehiculos/camion/00000040.jpg'>\n"
          ],
          "name": "stdout"
        },
        {
          "output_type": "stream",
          "text": [
            "/usr/local/lib/python3.6/dist-packages/PIL/Image.py:914: UserWarning: Palette images with Transparency   expressed in bytes should be converted to RGBA images\n",
            "  'to RGBA images')\n",
            "/usr/local/lib/python3.6/dist-packages/PIL/Image.py:914: UserWarning: Palette images with Transparency   expressed in bytes should be converted to RGBA images\n",
            "  'to RGBA images')\n"
          ],
          "name": "stderr"
        },
        {
          "output_type": "stream",
          "text": [
            "cannot identify image file <_io.BufferedReader name='data/vehiculos/camion/00000099.jpg'>\n"
          ],
          "name": "stdout"
        }
      ]
    }
  ]
}